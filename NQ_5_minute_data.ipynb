{
  "nbformat": 4,
  "nbformat_minor": 0,
  "metadata": {
    "colab": {
      "provenance": [],
      "authorship_tag": "ABX9TyNoCOlegcxkqttnslD9+7CY",
      "include_colab_link": true
    },
    "kernelspec": {
      "name": "python3",
      "display_name": "Python 3"
    },
    "language_info": {
      "name": "python"
    }
  },
  "cells": [
    {
      "cell_type": "markdown",
      "metadata": {
        "id": "view-in-github",
        "colab_type": "text"
      },
      "source": [
        "<a href=\"https://colab.research.google.com/github/joshxspud/ETH-regression/blob/main/NQ_5_minute_data.ipynb\" target=\"_parent\"><img src=\"https://colab.research.google.com/assets/colab-badge.svg\" alt=\"Open In Colab\"/></a>"
      ]
    },
    {
      "cell_type": "code",
      "execution_count": null,
      "metadata": {
        "id": "b6Xq6W_PZAYZ"
      },
      "outputs": [],
      "source": []
    },
    {
      "cell_type": "markdown",
      "metadata": {
        "id": "1c1e6b91"
      },
      "source": [
        "# Task\n",
        "Build a Python script to fetch 1-minute historical data for the NQ futures contract using a suitable financial data API."
      ]
    },
    {
      "cell_type": "markdown",
      "metadata": {
        "id": "d38b9872"
      },
      "source": [
        "## Identify a data source\n",
        "\n",
        "### Subtask:\n",
        "Determine where to get the NQ futures 1-minute data. This could be a financial data provider API (e.g., Alpha Vantage, Polygon.io, etc.) or a brokerage API (e.g., Interactive Brokers, TD Ameritrade, etc.)\n"
      ]
    },
    {
      "cell_type": "markdown",
      "metadata": {
        "id": "615a8855"
      },
      "source": [
        "## Identify a data source retry 1\n",
        "\n",
        "### Subtask:\n",
        "Determine where to get the NQ futures 1-minute data. This could be a financial data provider API (e.g., Alpha Vantage, Polygon.io, etc.) or a brokerage API (e.g., Interactive Brokers, TD Ameritrade, etc.)\n"
      ]
    },
    {
      "cell_type": "markdown",
      "metadata": {
        "id": "a40b2475"
      },
      "source": [
        "## Summary:\n",
        "\n",
        "### Data Analysis Key Findings\n",
        "\n",
        "*   The environment is unable to perform external research to identify suitable financial data providers for fetching NQ futures 1-minute data.\n",
        "\n",
        "### Insights or Next Steps\n",
        "\n",
        "*   To proceed with fetching the data, the user needs to identify a data source and its API information outside of the current environment.\n"
      ]
    },
    {
      "cell_type": "code",
      "metadata": {
        "colab": {
          "base_uri": "https://localhost:8080/"
        },
        "id": "699e7280",
        "outputId": "ac0ba8c7-877a-4127-98a9-d0c92ab86d3e"
      },
      "source": [
        "!pip install yfinance openpyxl"
      ],
      "execution_count": null,
      "outputs": [
        {
          "output_type": "stream",
          "name": "stdout",
          "text": [
            "Requirement already satisfied: yfinance in /usr/local/lib/python3.11/dist-packages (0.2.65)\n",
            "Requirement already satisfied: openpyxl in /usr/local/lib/python3.11/dist-packages (3.1.5)\n",
            "Requirement already satisfied: pandas>=1.3.0 in /usr/local/lib/python3.11/dist-packages (from yfinance) (2.2.2)\n",
            "Requirement already satisfied: numpy>=1.16.5 in /usr/local/lib/python3.11/dist-packages (from yfinance) (2.0.2)\n",
            "Requirement already satisfied: requests>=2.31 in /usr/local/lib/python3.11/dist-packages (from yfinance) (2.32.3)\n",
            "Requirement already satisfied: multitasking>=0.0.7 in /usr/local/lib/python3.11/dist-packages (from yfinance) (0.0.12)\n",
            "Requirement already satisfied: platformdirs>=2.0.0 in /usr/local/lib/python3.11/dist-packages (from yfinance) (4.3.8)\n",
            "Requirement already satisfied: pytz>=2022.5 in /usr/local/lib/python3.11/dist-packages (from yfinance) (2025.2)\n",
            "Requirement already satisfied: frozendict>=2.3.4 in /usr/local/lib/python3.11/dist-packages (from yfinance) (2.4.6)\n",
            "Requirement already satisfied: peewee>=3.16.2 in /usr/local/lib/python3.11/dist-packages (from yfinance) (3.18.2)\n",
            "Requirement already satisfied: beautifulsoup4>=4.11.1 in /usr/local/lib/python3.11/dist-packages (from yfinance) (4.13.4)\n",
            "Requirement already satisfied: curl_cffi>=0.7 in /usr/local/lib/python3.11/dist-packages (from yfinance) (0.13.0)\n",
            "Requirement already satisfied: protobuf>=3.19.0 in /usr/local/lib/python3.11/dist-packages (from yfinance) (5.29.5)\n",
            "Requirement already satisfied: websockets>=13.0 in /usr/local/lib/python3.11/dist-packages (from yfinance) (15.0.1)\n",
            "Requirement already satisfied: et-xmlfile in /usr/local/lib/python3.11/dist-packages (from openpyxl) (2.0.0)\n",
            "Requirement already satisfied: soupsieve>1.2 in /usr/local/lib/python3.11/dist-packages (from beautifulsoup4>=4.11.1->yfinance) (2.7)\n",
            "Requirement already satisfied: typing-extensions>=4.0.0 in /usr/local/lib/python3.11/dist-packages (from beautifulsoup4>=4.11.1->yfinance) (4.14.1)\n",
            "Requirement already satisfied: cffi>=1.12.0 in /usr/local/lib/python3.11/dist-packages (from curl_cffi>=0.7->yfinance) (1.17.1)\n",
            "Requirement already satisfied: certifi>=2024.2.2 in /usr/local/lib/python3.11/dist-packages (from curl_cffi>=0.7->yfinance) (2025.8.3)\n",
            "Requirement already satisfied: python-dateutil>=2.8.2 in /usr/local/lib/python3.11/dist-packages (from pandas>=1.3.0->yfinance) (2.9.0.post0)\n",
            "Requirement already satisfied: tzdata>=2022.7 in /usr/local/lib/python3.11/dist-packages (from pandas>=1.3.0->yfinance) (2025.2)\n",
            "Requirement already satisfied: charset-normalizer<4,>=2 in /usr/local/lib/python3.11/dist-packages (from requests>=2.31->yfinance) (3.4.2)\n",
            "Requirement already satisfied: idna<4,>=2.5 in /usr/local/lib/python3.11/dist-packages (from requests>=2.31->yfinance) (3.10)\n",
            "Requirement already satisfied: urllib3<3,>=1.21.1 in /usr/local/lib/python3.11/dist-packages (from requests>=2.31->yfinance) (2.5.0)\n",
            "Requirement already satisfied: pycparser in /usr/local/lib/python3.11/dist-packages (from cffi>=1.12.0->curl_cffi>=0.7->yfinance) (2.22)\n",
            "Requirement already satisfied: six>=1.5 in /usr/local/lib/python3.11/dist-packages (from python-dateutil>=2.8.2->pandas>=1.3.0->yfinance) (1.17.0)\n"
          ]
        }
      ]
    },
    {
      "cell_type": "code",
      "metadata": {
        "colab": {
          "base_uri": "https://localhost:8080/",
          "height": 393
        },
        "id": "a7ad9a56",
        "outputId": "13a66d6d-a53a-4020-a0cb-2a4ff3d1d5eb"
      },
      "source": [
        "import yfinance as yf\n",
        "import pandas as pd\n",
        "\n",
        "# Define the ticker for NQ futures (adjust if necessary based on yfinance's ticker convention for futures)\n",
        "# Common tickers for Nasdaq 100 futures might be '^NDX' or 'NQ=F', but 1-minute futures data is unlikely\n",
        "# I will try 'NQ=F' as a common convention, but it might not work for 1-minute data.\n",
        "ticker = 'NQ=F'\n",
        "interval = '1m'\n",
        "period = '1d' # Request data for the last 5 days\n",
        "\n",
        "try:\n",
        "    # Fetch the data\n",
        "    nq_data = yf.download(ticker, interval=interval, period=period)\n",
        "\n",
        "    if not nq_data.empty:\n",
        "        # Display the first few rows of the dataframe\n",
        "        print(\"Data fetched successfully:\")\n",
        "        display(nq_data.head())\n",
        "\n",
        "        # Define the output file name\n",
        "        output_file = 'NQ_futures_1min_data.xlsx'\n",
        "\n",
        "        # Save the data to an Excel file\n",
        "        nq_data.to_excel(output_file)\n",
        "\n",
        "        print(f\"\\nData successfully saved to {output_file}\")\n",
        "    else:\n",
        "        print(f\"No data found for ticker {ticker} with interval {interval} and period {period}.\")\n",
        "        print(\"It's likely that 1-minute futures data is not available on Yahoo Finance for this ticker and interval.\")\n",
        "\n",
        "except Exception as e:\n",
        "    print(f\"An error occurred: {e}\")\n",
        "    print(\"Could not fetch data. Please verify the ticker symbol and if 1-minute data is available for futures on Yahoo Finance.\")"
      ],
      "execution_count": null,
      "outputs": [
        {
          "output_type": "stream",
          "name": "stderr",
          "text": [
            "/tmp/ipython-input-2911021227.py:13: FutureWarning: YF.download() has changed argument auto_adjust default to True\n",
            "  nq_data = yf.download(ticker, interval=interval, period=period)\n",
            "[*********************100%***********************]  1 of 1 completed"
          ]
        },
        {
          "output_type": "stream",
          "name": "stdout",
          "text": [
            "Data fetched successfully:\n"
          ]
        },
        {
          "output_type": "stream",
          "name": "stderr",
          "text": [
            "\n"
          ]
        },
        {
          "output_type": "display_data",
          "data": {
            "text/plain": [
              "Price                         Close      High       Low      Open Volume\n",
              "Ticker                         NQ=F      NQ=F      NQ=F      NQ=F   NQ=F\n",
              "Datetime                                                                \n",
              "2025-08-08 04:09:00+00:00  23546.25  23548.25  23545.75  23546.25      0\n",
              "2025-08-08 04:10:00+00:00  23548.25  23548.25  23545.75  23545.75     19\n",
              "2025-08-08 04:11:00+00:00  23546.75  23547.75  23546.50  23547.75     40\n",
              "2025-08-08 04:12:00+00:00  23550.75  23551.25  23547.00  23547.00     57\n",
              "2025-08-08 04:13:00+00:00  23547.75  23551.25  23547.75  23551.25     40"
            ],
            "text/html": [
              "\n",
              "  <div id=\"df-2d7396c8-6190-465f-b701-21fe9572d5aa\" class=\"colab-df-container\">\n",
              "    <div>\n",
              "<style scoped>\n",
              "    .dataframe tbody tr th:only-of-type {\n",
              "        vertical-align: middle;\n",
              "    }\n",
              "\n",
              "    .dataframe tbody tr th {\n",
              "        vertical-align: top;\n",
              "    }\n",
              "\n",
              "    .dataframe thead tr th {\n",
              "        text-align: left;\n",
              "    }\n",
              "\n",
              "    .dataframe thead tr:last-of-type th {\n",
              "        text-align: right;\n",
              "    }\n",
              "</style>\n",
              "<table border=\"1\" class=\"dataframe\">\n",
              "  <thead>\n",
              "    <tr>\n",
              "      <th>Price</th>\n",
              "      <th>Close</th>\n",
              "      <th>High</th>\n",
              "      <th>Low</th>\n",
              "      <th>Open</th>\n",
              "      <th>Volume</th>\n",
              "    </tr>\n",
              "    <tr>\n",
              "      <th>Ticker</th>\n",
              "      <th>NQ=F</th>\n",
              "      <th>NQ=F</th>\n",
              "      <th>NQ=F</th>\n",
              "      <th>NQ=F</th>\n",
              "      <th>NQ=F</th>\n",
              "    </tr>\n",
              "    <tr>\n",
              "      <th>Datetime</th>\n",
              "      <th></th>\n",
              "      <th></th>\n",
              "      <th></th>\n",
              "      <th></th>\n",
              "      <th></th>\n",
              "    </tr>\n",
              "  </thead>\n",
              "  <tbody>\n",
              "    <tr>\n",
              "      <th>2025-08-08 04:09:00+00:00</th>\n",
              "      <td>23546.25</td>\n",
              "      <td>23548.25</td>\n",
              "      <td>23545.75</td>\n",
              "      <td>23546.25</td>\n",
              "      <td>0</td>\n",
              "    </tr>\n",
              "    <tr>\n",
              "      <th>2025-08-08 04:10:00+00:00</th>\n",
              "      <td>23548.25</td>\n",
              "      <td>23548.25</td>\n",
              "      <td>23545.75</td>\n",
              "      <td>23545.75</td>\n",
              "      <td>19</td>\n",
              "    </tr>\n",
              "    <tr>\n",
              "      <th>2025-08-08 04:11:00+00:00</th>\n",
              "      <td>23546.75</td>\n",
              "      <td>23547.75</td>\n",
              "      <td>23546.50</td>\n",
              "      <td>23547.75</td>\n",
              "      <td>40</td>\n",
              "    </tr>\n",
              "    <tr>\n",
              "      <th>2025-08-08 04:12:00+00:00</th>\n",
              "      <td>23550.75</td>\n",
              "      <td>23551.25</td>\n",
              "      <td>23547.00</td>\n",
              "      <td>23547.00</td>\n",
              "      <td>57</td>\n",
              "    </tr>\n",
              "    <tr>\n",
              "      <th>2025-08-08 04:13:00+00:00</th>\n",
              "      <td>23547.75</td>\n",
              "      <td>23551.25</td>\n",
              "      <td>23547.75</td>\n",
              "      <td>23551.25</td>\n",
              "      <td>40</td>\n",
              "    </tr>\n",
              "  </tbody>\n",
              "</table>\n",
              "</div>\n",
              "    <div class=\"colab-df-buttons\">\n",
              "\n",
              "  <div class=\"colab-df-container\">\n",
              "    <button class=\"colab-df-convert\" onclick=\"convertToInteractive('df-2d7396c8-6190-465f-b701-21fe9572d5aa')\"\n",
              "            title=\"Convert this dataframe to an interactive table.\"\n",
              "            style=\"display:none;\">\n",
              "\n",
              "  <svg xmlns=\"http://www.w3.org/2000/svg\" height=\"24px\" viewBox=\"0 -960 960 960\">\n",
              "    <path d=\"M120-120v-720h720v720H120Zm60-500h600v-160H180v160Zm220 220h160v-160H400v160Zm0 220h160v-160H400v160ZM180-400h160v-160H180v160Zm440 0h160v-160H620v160ZM180-180h160v-160H180v160Zm440 0h160v-160H620v160Z\"/>\n",
              "  </svg>\n",
              "    </button>\n",
              "\n",
              "  <style>\n",
              "    .colab-df-container {\n",
              "      display:flex;\n",
              "      gap: 12px;\n",
              "    }\n",
              "\n",
              "    .colab-df-convert {\n",
              "      background-color: #E8F0FE;\n",
              "      border: none;\n",
              "      border-radius: 50%;\n",
              "      cursor: pointer;\n",
              "      display: none;\n",
              "      fill: #1967D2;\n",
              "      height: 32px;\n",
              "      padding: 0 0 0 0;\n",
              "      width: 32px;\n",
              "    }\n",
              "\n",
              "    .colab-df-convert:hover {\n",
              "      background-color: #E2EBFA;\n",
              "      box-shadow: 0px 1px 2px rgba(60, 64, 67, 0.3), 0px 1px 3px 1px rgba(60, 64, 67, 0.15);\n",
              "      fill: #174EA6;\n",
              "    }\n",
              "\n",
              "    .colab-df-buttons div {\n",
              "      margin-bottom: 4px;\n",
              "    }\n",
              "\n",
              "    [theme=dark] .colab-df-convert {\n",
              "      background-color: #3B4455;\n",
              "      fill: #D2E3FC;\n",
              "    }\n",
              "\n",
              "    [theme=dark] .colab-df-convert:hover {\n",
              "      background-color: #434B5C;\n",
              "      box-shadow: 0px 1px 3px 1px rgba(0, 0, 0, 0.15);\n",
              "      filter: drop-shadow(0px 1px 2px rgba(0, 0, 0, 0.3));\n",
              "      fill: #FFFFFF;\n",
              "    }\n",
              "  </style>\n",
              "\n",
              "    <script>\n",
              "      const buttonEl =\n",
              "        document.querySelector('#df-2d7396c8-6190-465f-b701-21fe9572d5aa button.colab-df-convert');\n",
              "      buttonEl.style.display =\n",
              "        google.colab.kernel.accessAllowed ? 'block' : 'none';\n",
              "\n",
              "      async function convertToInteractive(key) {\n",
              "        const element = document.querySelector('#df-2d7396c8-6190-465f-b701-21fe9572d5aa');\n",
              "        const dataTable =\n",
              "          await google.colab.kernel.invokeFunction('convertToInteractive',\n",
              "                                                    [key], {});\n",
              "        if (!dataTable) return;\n",
              "\n",
              "        const docLinkHtml = 'Like what you see? Visit the ' +\n",
              "          '<a target=\"_blank\" href=https://colab.research.google.com/notebooks/data_table.ipynb>data table notebook</a>'\n",
              "          + ' to learn more about interactive tables.';\n",
              "        element.innerHTML = '';\n",
              "        dataTable['output_type'] = 'display_data';\n",
              "        await google.colab.output.renderOutput(dataTable, element);\n",
              "        const docLink = document.createElement('div');\n",
              "        docLink.innerHTML = docLinkHtml;\n",
              "        element.appendChild(docLink);\n",
              "      }\n",
              "    </script>\n",
              "  </div>\n",
              "\n",
              "\n",
              "    <div id=\"df-6b2df034-f377-4427-96cb-74964b6aa9d7\">\n",
              "      <button class=\"colab-df-quickchart\" onclick=\"quickchart('df-6b2df034-f377-4427-96cb-74964b6aa9d7')\"\n",
              "                title=\"Suggest charts\"\n",
              "                style=\"display:none;\">\n",
              "\n",
              "<svg xmlns=\"http://www.w3.org/2000/svg\" height=\"24px\"viewBox=\"0 0 24 24\"\n",
              "     width=\"24px\">\n",
              "    <g>\n",
              "        <path d=\"M19 3H5c-1.1 0-2 .9-2 2v14c0 1.1.9 2 2 2h14c1.1 0 2-.9 2-2V5c0-1.1-.9-2-2-2zM9 17H7v-7h2v7zm4 0h-2V7h2v10zm4 0h-2v-4h2v4z\"/>\n",
              "    </g>\n",
              "</svg>\n",
              "      </button>\n",
              "\n",
              "<style>\n",
              "  .colab-df-quickchart {\n",
              "      --bg-color: #E8F0FE;\n",
              "      --fill-color: #1967D2;\n",
              "      --hover-bg-color: #E2EBFA;\n",
              "      --hover-fill-color: #174EA6;\n",
              "      --disabled-fill-color: #AAA;\n",
              "      --disabled-bg-color: #DDD;\n",
              "  }\n",
              "\n",
              "  [theme=dark] .colab-df-quickchart {\n",
              "      --bg-color: #3B4455;\n",
              "      --fill-color: #D2E3FC;\n",
              "      --hover-bg-color: #434B5C;\n",
              "      --hover-fill-color: #FFFFFF;\n",
              "      --disabled-bg-color: #3B4455;\n",
              "      --disabled-fill-color: #666;\n",
              "  }\n",
              "\n",
              "  .colab-df-quickchart {\n",
              "    background-color: var(--bg-color);\n",
              "    border: none;\n",
              "    border-radius: 50%;\n",
              "    cursor: pointer;\n",
              "    display: none;\n",
              "    fill: var(--fill-color);\n",
              "    height: 32px;\n",
              "    padding: 0;\n",
              "    width: 32px;\n",
              "  }\n",
              "\n",
              "  .colab-df-quickchart:hover {\n",
              "    background-color: var(--hover-bg-color);\n",
              "    box-shadow: 0 1px 2px rgba(60, 64, 67, 0.3), 0 1px 3px 1px rgba(60, 64, 67, 0.15);\n",
              "    fill: var(--button-hover-fill-color);\n",
              "  }\n",
              "\n",
              "  .colab-df-quickchart-complete:disabled,\n",
              "  .colab-df-quickchart-complete:disabled:hover {\n",
              "    background-color: var(--disabled-bg-color);\n",
              "    fill: var(--disabled-fill-color);\n",
              "    box-shadow: none;\n",
              "  }\n",
              "\n",
              "  .colab-df-spinner {\n",
              "    border: 2px solid var(--fill-color);\n",
              "    border-color: transparent;\n",
              "    border-bottom-color: var(--fill-color);\n",
              "    animation:\n",
              "      spin 1s steps(1) infinite;\n",
              "  }\n",
              "\n",
              "  @keyframes spin {\n",
              "    0% {\n",
              "      border-color: transparent;\n",
              "      border-bottom-color: var(--fill-color);\n",
              "      border-left-color: var(--fill-color);\n",
              "    }\n",
              "    20% {\n",
              "      border-color: transparent;\n",
              "      border-left-color: var(--fill-color);\n",
              "      border-top-color: var(--fill-color);\n",
              "    }\n",
              "    30% {\n",
              "      border-color: transparent;\n",
              "      border-left-color: var(--fill-color);\n",
              "      border-top-color: var(--fill-color);\n",
              "      border-right-color: var(--fill-color);\n",
              "    }\n",
              "    40% {\n",
              "      border-color: transparent;\n",
              "      border-right-color: var(--fill-color);\n",
              "      border-top-color: var(--fill-color);\n",
              "    }\n",
              "    60% {\n",
              "      border-color: transparent;\n",
              "      border-right-color: var(--fill-color);\n",
              "    }\n",
              "    80% {\n",
              "      border-color: transparent;\n",
              "      border-right-color: var(--fill-color);\n",
              "      border-bottom-color: var(--fill-color);\n",
              "    }\n",
              "    90% {\n",
              "      border-color: transparent;\n",
              "      border-bottom-color: var(--fill-color);\n",
              "    }\n",
              "  }\n",
              "</style>\n",
              "\n",
              "      <script>\n",
              "        async function quickchart(key) {\n",
              "          const quickchartButtonEl =\n",
              "            document.querySelector('#' + key + ' button');\n",
              "          quickchartButtonEl.disabled = true;  // To prevent multiple clicks.\n",
              "          quickchartButtonEl.classList.add('colab-df-spinner');\n",
              "          try {\n",
              "            const charts = await google.colab.kernel.invokeFunction(\n",
              "                'suggestCharts', [key], {});\n",
              "          } catch (error) {\n",
              "            console.error('Error during call to suggestCharts:', error);\n",
              "          }\n",
              "          quickchartButtonEl.classList.remove('colab-df-spinner');\n",
              "          quickchartButtonEl.classList.add('colab-df-quickchart-complete');\n",
              "        }\n",
              "        (() => {\n",
              "          let quickchartButtonEl =\n",
              "            document.querySelector('#df-6b2df034-f377-4427-96cb-74964b6aa9d7 button');\n",
              "          quickchartButtonEl.style.display =\n",
              "            google.colab.kernel.accessAllowed ? 'block' : 'none';\n",
              "        })();\n",
              "      </script>\n",
              "    </div>\n",
              "\n",
              "    </div>\n",
              "  </div>\n"
            ],
            "application/vnd.google.colaboratory.intrinsic+json": {
              "type": "dataframe",
              "summary": "{\n  \"name\": \"    print(\\\"Could not fetch data\",\n  \"rows\": 5,\n  \"fields\": [\n    {\n      \"column\": [\n        \"Datetime\",\n        \"\"\n      ],\n      \"properties\": {\n        \"dtype\": \"date\",\n        \"min\": \"2025-08-08 04:09:00+00:00\",\n        \"max\": \"2025-08-08 04:13:00+00:00\",\n        \"num_unique_values\": 5,\n        \"samples\": [\n          \"2025-08-08 04:10:00+00:00\",\n          \"2025-08-08 04:13:00+00:00\",\n          \"2025-08-08 04:11:00+00:00\"\n        ],\n        \"semantic_type\": \"\",\n        \"description\": \"\"\n      }\n    },\n    {\n      \"column\": [\n        \"Close\",\n        \"NQ=F\"\n      ],\n      \"properties\": {\n        \"dtype\": \"number\",\n        \"std\": 1.7535677916750183,\n        \"min\": 23546.25,\n        \"max\": 23550.75,\n        \"num_unique_values\": 5,\n        \"samples\": [\n          23548.25,\n          23547.75,\n          23546.75\n        ],\n        \"semantic_type\": \"\",\n        \"description\": \"\"\n      }\n    },\n    {\n      \"column\": [\n        \"High\",\n        \"NQ=F\"\n      ],\n      \"properties\": {\n        \"dtype\": \"number\",\n        \"std\": 1.746424919657298,\n        \"min\": 23547.75,\n        \"max\": 23551.25,\n        \"num_unique_values\": 3,\n        \"samples\": [\n          23548.25,\n          23547.75,\n          23551.25\n        ],\n        \"semantic_type\": \"\",\n        \"description\": \"\"\n      }\n    },\n    {\n      \"column\": [\n        \"Low\",\n        \"NQ=F\"\n      ],\n      \"properties\": {\n        \"dtype\": \"number\",\n        \"std\": 0.8551315688243535,\n        \"min\": 23545.75,\n        \"max\": 23547.75,\n        \"num_unique_values\": 4,\n        \"samples\": [\n          23546.5,\n          23547.75,\n          23545.75\n        ],\n        \"semantic_type\": \"\",\n        \"description\": \"\"\n      }\n    },\n    {\n      \"column\": [\n        \"Open\",\n        \"NQ=F\"\n      ],\n      \"properties\": {\n        \"dtype\": \"number\",\n        \"std\": 2.1765798859678918,\n        \"min\": 23545.75,\n        \"max\": 23551.25,\n        \"num_unique_values\": 5,\n        \"samples\": [\n          23545.75,\n          23551.25,\n          23547.75\n        ],\n        \"semantic_type\": \"\",\n        \"description\": \"\"\n      }\n    },\n    {\n      \"column\": [\n        \"Volume\",\n        \"NQ=F\"\n      ],\n      \"properties\": {\n        \"dtype\": \"number\",\n        \"std\": 22,\n        \"min\": 0,\n        \"max\": 57,\n        \"num_unique_values\": 4,\n        \"samples\": [\n          19,\n          57,\n          0\n        ],\n        \"semantic_type\": \"\",\n        \"description\": \"\"\n      }\n    }\n  ]\n}"
            }
          },
          "metadata": {}
        },
        {
          "output_type": "stream",
          "name": "stdout",
          "text": [
            "An error occurred: Excel does not support datetimes with timezones. Please ensure that datetimes are timezone unaware before writing to Excel.\n",
            "Could not fetch data. Please verify the ticker symbol and if 1-minute data is available for futures on Yahoo Finance.\n"
          ]
        }
      ]
    },
    {
      "cell_type": "code",
      "metadata": {
        "colab": {
          "base_uri": "https://localhost:8080/"
        },
        "id": "b8c63943",
        "outputId": "28fae9b5-c23d-4b17-dc41-53f110e07ed3"
      },
      "source": [
        "import yfinance as yf\n",
        "import pandas as pd\n",
        "from google.colab import files\n",
        "\n",
        "# Define the ticker for NQ futures (adjust if necessary based on yfinance's ticker convention for futures)\n",
        "ticker = 'NQ=F'\n",
        "interval = '5m'\n",
        "period = '65d' # Request data for the last 5 days\n",
        "output_file = 'NQ_futures_1min_data.xlsx'\n",
        "\n",
        "try:\n",
        "    # Fetch the data\n",
        "    nq_data = yf.download(ticker, interval=interval, period=period)\n",
        "\n",
        "    if not nq_data.empty:\n",
        "        # Display the first few rows of the dataframe\n",
        "        print(\"Data fetched successfully:\")\n",
        "        display(nq_data.head())\n",
        "\n",
        "        # Make the index timezone-naive\n",
        "        nq_data.index = nq_data.index.tz_convert(None)\n",
        "\n",
        "        # Save the data to an Excel file\n",
        "        nq_data.to_excel(output_file)\n",
        "\n",
        "        print(f\"\\nData successfully saved to {output_file}\")\n",
        "\n",
        "        # Provide a download link for the file\n",
        "        files.download(output_file)\n",
        "\n",
        "    else:\n",
        "        print(f\"No data found for ticker {ticker} with interval {interval} and period {period}.\")\n",
        "        print(\"It's likely that 1-minute futures data is not available on Yahoo Finance for this ticker and interval.\")\n",
        "\n",
        "except Exception as e:\n",
        "    print(f\"An error occurred: {e}\")\n",
        "    print(\"Could not fetch data. Please verify the ticker symbol and if 1-minute data is available for futures on Yahoo Finance.\")"
      ],
      "execution_count": null,
      "outputs": [
        {
          "output_type": "stream",
          "name": "stderr",
          "text": [
            "/tmp/ipython-input-856194615.py:13: FutureWarning: YF.download() has changed argument auto_adjust default to True\n",
            "  nq_data = yf.download(ticker, interval=interval, period=period)\n",
            "[*********************100%***********************]  1 of 1 completed\n",
            "ERROR:yfinance:\n",
            "1 Failed download:\n",
            "ERROR:yfinance:['NQ=F']: YFPricesMissingError('possibly delisted; no price data found  (period=65d) (Yahoo error = \"5m data not available for startTime=1749404497 and endTime=1755020497. The requested range must be within the last 60 days.\")')\n"
          ]
        },
        {
          "output_type": "stream",
          "name": "stdout",
          "text": [
            "No data found for ticker NQ=F with interval 5m and period 65d.\n",
            "It's likely that 1-minute futures data is not available on Yahoo Finance for this ticker and interval.\n"
          ]
        }
      ]
    },
    {
      "cell_type": "code",
      "metadata": {
        "colab": {
          "base_uri": "https://localhost:8080/"
        },
        "id": "6fbe7462",
        "outputId": "54333d97-dd23-4c33-b57a-d741f929a7a3"
      },
      "source": [
        "# Filter the DataFrame for the time range 9:30 to 9:40\n",
        "missing_data_check = nq_data.between_time('09:30', '09:40')\n",
        "\n",
        "if not missing_data_check.empty:\n",
        "    print(\"Data found between 9:30 and 9:40 on the following dates:\")\n",
        "    display(missing_data_check)\n",
        "else:\n",
        "    print(\"No data found between 9:30 and 9:40 in the fetched data.\")\n",
        "    print(\"This confirms that Yahoo Finance is likely not providing data for this specific time range for NQ=F futures.\")"
      ],
      "execution_count": null,
      "outputs": [
        {
          "output_type": "stream",
          "name": "stdout",
          "text": [
            "No data found between 9:30 and 9:40 in the fetched data.\n",
            "This confirms that Yahoo Finance is likely not providing data for this specific time range for NQ=F futures.\n"
          ]
        }
      ]
    }
  ]
}